{
 "cells": [
  {
   "cell_type": "markdown",
   "id": "25d7736c-ba17-4aff-b6bb-66eba20fbf4e",
   "metadata": {},
   "source": [
    "# Lab | List, Dict and Set Comprehension"
   ]
  },
  {
   "cell_type": "markdown",
   "id": "5d500160-2fb7-4777-b5e4-09d45ebaf328",
   "metadata": {},
   "source": [
    "In the previous exercise, you developed a program to manage customer orders and inventory. Now, let's take it a step further and incorporate comprehension into your code.\n",
    "\n",
    "Follow the steps below to complete the exercise:\n",
    "\n",
    "1. Review your code from the previous exercise and identify areas where you can apply comprehension to simplify and streamline your code. \n",
    "\n",
    "    - *Hint: Apply it to initialize inventory, updating the inventory and printing the updated inventory.*\n",
    "    \n",
    "    - For example, in initializing the inventory, we could have:\n",
    "    \n",
    "        ```python\n",
    "        def initialize_inventory(products):\n",
    "            inventory = {product: int(input(f\"Enter the quantity of {product}s available: \")) for product in products}\n",
    "            return inventory\n",
    "\n",
    "        ```\n",
    "<br>\n",
    "    \n",
    "    \n",
    "2. Modify the function get_customer_orders so it prompts the user to enter the number of customer orders and gathers the product names using a loop and user input. Use comprehension.\n",
    "\n",
    "3. Add a new function to calculate the total price of the customer order. For each product in customer_orders, prompt the user to enter the price of that product. Use comprehension to calculate the total price. Note: assume that the user can only have 1 unit of each product.\n",
    "\n",
    "4. Modify the update_inventory function to remove the product from the inventory if its quantity becomes zero after fulfilling the customer orders. Use comprehension to filter out the products with a quantity of zero from the inventory.\n",
    "\n",
    "5. Print the total price of the customer order.\n",
    "\n",
    "Your code should produce output similar to the following:\n",
    "\n",
    "```python\n",
    "Enter the quantity of t-shirts available:  5\n",
    "Enter the quantity of mugs available:  4\n",
    "Enter the quantity of hats available:  3\n",
    "Enter the quantity of books available:  2\n",
    "Enter the quantity of keychains available:  1\n",
    "Enter the number of customer orders:  2\n",
    "Enter the name of a product that a customer wants to order:  hat\n",
    "Enter the name of a product that a customer wants to order:  keychain\n",
    "\n",
    "Order Statistics:\n",
    "Total Products Ordered: 2\n",
    "Percentage of Unique Products Ordered: 40.0\n",
    "\n",
    "Updated Inventory:\n",
    "t-shirt: 5\n",
    "mug: 4\n",
    "hat: 2\n",
    "book: 2\n",
    "Enter the price of keychain:  5\n",
    "Enter the price of hat:  10\n",
    "Total Price: 15.0\n",
    "\n",
    "```\n"
   ]
  },
  {
   "cell_type": "markdown",
   "id": "7dd3cbde-675a-4b81-92c3-f728846dbe06",
   "metadata": {},
   "source": [
    "## Exercise: Managing Customer Orders Optimized with Comprehension"
   ]
  },
  {
   "cell_type": "markdown",
   "id": "a8c4877e-52a2-445b-b4ff-65b4d4213727",
   "metadata": {},
   "source": [
    "1. Review your code from the previous exercise and identify areas where you can apply comprehension to simplify and streamline your code\n",
    "Hint: Apply it to initialize inventory, updating the inventory and printing the updated inventory."
   ]
  },
  {
   "cell_type": "markdown",
   "id": "1405b8dd-2562-41e4-8353-9dad9c53dc63",
   "metadata": {},
   "source": [
    "def initialize_inventory(products):\n",
    "    for product in products:\n",
    "        inventory [product] = int(input(f\"Write the quantity of {product} available in the inventory:\"))\n",
    "    return inventory\n",
    "        \n",
    "initialize_inventory(products)\n",
    "\n"
   ]
  },
  {
   "cell_type": "code",
   "execution_count": 95,
   "id": "738e2945-9c13-416e-82c6-922d59cffae8",
   "metadata": {},
   "outputs": [
    {
     "name": "stdout",
     "output_type": "stream",
     "text": [
      "Write the quantity of t-shirt available in the inventory:  3\n",
      "Write the quantity of mug available in the inventory:  3\n",
      "Write the quantity of hat available in the inventory:  3\n",
      "Write the quantity of book available in the inventory:  3\n",
      "Write the quantity of keychain available in the inventory:  3\n"
     ]
    },
    {
     "name": "stdout",
     "output_type": "stream",
     "text": [
      "{'t-shirt': 3, 'mug': 3, 'hat': 3, 'book': 3, 'keychain': 3}\n"
     ]
    }
   ],
   "source": [
    "# 1 initialize inventory\n",
    "products = [\"t-shirt\", \"mug\", \"hat\", \"book\", \"keychain\"] \n",
    "inventory = {product: int(input(f\"Write the quantity of {product} available in the inventory: \")) for product in products}\n",
    "print(inventory)\n"
   ]
  },
  {
   "cell_type": "code",
   "execution_count": 97,
   "id": "c57109ed-7cc3-496c-87fe-dd52746aa66d",
   "metadata": {},
   "outputs": [
    {
     "name": "stdout",
     "output_type": "stream",
     "text": [
      "Enter the number of customer orders:  2\n",
      "Enter product name for order 1:  hat\n",
      "Enter product name for order 2:  book\n"
     ]
    },
    {
     "name": "stdout",
     "output_type": "stream",
     "text": [
      "Customer orders: {'book', 'hat'}\n"
     ]
    }
   ],
   "source": [
    "# 2\n",
    "\n",
    "def get_customer_orders():\n",
    "    number_customer_orders = int(input(\"Enter the number of customer orders: \"))\n",
    "    customer_orders = {input(f\"Enter product name for order {product + 1}: \").lower() for product in range(number_customer_orders)}\n",
    "    return customer_orders\n",
    "customer_orders = get_customer_orders()\n",
    "print(\"Customer orders:\", customer_orders)"
   ]
  },
  {
   "cell_type": "code",
   "execution_count": 99,
   "id": "974422e8-1e15-4fc8-873b-0255670c6ce8",
   "metadata": {},
   "outputs": [
    {
     "data": {
      "text/plain": [
       "{'t-shirt': 3, 'mug': 3, 'hat': 2, 'book': 2, 'keychain': 3}"
      ]
     },
     "execution_count": 99,
     "metadata": {},
     "output_type": "execute_result"
    }
   ],
   "source": [
    "# 1\n",
    "def update_inventory(inventory, customer_orders):\n",
    "    inventory_update = {key: (value - 1 if key in customer_orders else value) for key, value in inventory.items()}\n",
    "    return inventory_update\n",
    "update_inventory(inventory,customer_orders)"
   ]
  },
  {
   "cell_type": "code",
   "execution_count": 101,
   "id": "3bff7100-f646-4be3-b8d6-24773a7a6e27",
   "metadata": {},
   "outputs": [
    {
     "name": "stdout",
     "output_type": "stream",
     "text": [
      "updated inventory: {'t-shirt': 3, 'mug': 3, 'hat': 2, 'book': 2, 'keychain': 3}\n"
     ]
    }
   ],
   "source": [
    "#1 printing the updated inventory\n",
    "print(f\"updated inventory: {update_inventory(inventory, customer_orders)}\")\n",
    "\n"
   ]
  },
  {
   "cell_type": "code",
   "execution_count": 103,
   "id": "6f12064b-4013-4264-9bbf-a81493ef5085",
   "metadata": {},
   "outputs": [],
   "source": [
    "# 3 Add a new function to calculate the total price of the customer order. For each product in customer_orders, \n",
    "#prompt the user to enter the price of that product. Use comprehension to calculate the total price. \n",
    "#Note: assume that the user can only have 1 unit of each product.\n",
    "\n",
    "def calculate_total_price(customer_orders):\n",
    "    total_price = sum(int(input(f\"Enter the price for '{product}': \")) for product in customer_orders)\n",
    "    return total_price\n",
    "\n"
   ]
  },
  {
   "cell_type": "code",
   "execution_count": 107,
   "id": "678ac489-73e7-4e0b-bd95-d765bb3dc32e",
   "metadata": {},
   "outputs": [
    {
     "name": "stdout",
     "output_type": "stream",
     "text": [
      "Enter the price for 't-shirt':  3\n",
      "Enter the price for 'mug':  3\n",
      "Enter the price for 'hat':  3\n",
      "Enter the price for 'book':  3\n",
      "Enter the price for 'keychain':  3\n"
     ]
    },
    {
     "name": "stdout",
     "output_type": "stream",
     "text": [
      "15\n"
     ]
    }
   ],
   "source": [
    "# 3\n",
    "total_price = sum(int(input(f\"Enter the price for '{product}': \")) for product in inventory.keys())\n",
    "print(total_price)"
   ]
  },
  {
   "cell_type": "code",
   "execution_count": 109,
   "id": "26f2cfbc-94a7-4366-8921-c6eae629dd9d",
   "metadata": {},
   "outputs": [
    {
     "data": {
      "text/plain": [
       "{'t-shirt': 3, 'mug': 3, 'hat': 2, 'book': 2, 'keychain': 3}"
      ]
     },
     "execution_count": 109,
     "metadata": {},
     "output_type": "execute_result"
    }
   ],
   "source": [
    "# 4 Modify the update_inventory function to remove the product from the inventory if its quantity becomes zero after fulfilling the customer orders. \n",
    "# Use comprehension to filter out the products with a quantity of zero from the inventory.\n",
    "\n",
    "def update_inventory(customer_orders, inventory):\n",
    "    for product in customer_orders:\n",
    "        if product in inventory.keys():\n",
    "            inventory[product] -= 1\n",
    "    return inventory\n",
    "    \n",
    "update_inventory(customer_orders, inventory)"
   ]
  },
  {
   "cell_type": "code",
   "execution_count": 111,
   "id": "7bc272b4-1fdd-44e4-bbde-f1c0c9ed98a4",
   "metadata": {},
   "outputs": [],
   "source": [
    "# 4 Use comprehension to filter out the products with a quantity of zero from the inventory.\n",
    "def update_inventory(customer_orders, inventory):\n",
    "    for product in customer_orders:\n",
    "        if product in inventory.keys:\n",
    "            inventory[product] -= 1\n",
    "    inventory = {product: quantity for product, quantity in inventory.items() if quantity > 0}\n",
    "    return inventory\n",
    "    "
   ]
  },
  {
   "cell_type": "code",
   "execution_count": 113,
   "id": "788e42ac-db6f-4bc6-9fd5-9345f5fbbbf8",
   "metadata": {},
   "outputs": [
    {
     "name": "stdout",
     "output_type": "stream",
     "text": [
      "Total price is: 15\n"
     ]
    }
   ],
   "source": [
    "# 5 Print the total price of the customer order.\n",
    "print(f\"Total price is: {total_price}\")"
   ]
  }
 ],
 "metadata": {
  "kernelspec": {
   "display_name": "Python 3 (ipykernel)",
   "language": "python",
   "name": "python3"
  },
  "language_info": {
   "codemirror_mode": {
    "name": "ipython",
    "version": 3
   },
   "file_extension": ".py",
   "mimetype": "text/x-python",
   "name": "python",
   "nbconvert_exporter": "python",
   "pygments_lexer": "ipython3",
   "version": "3.11.7"
  }
 },
 "nbformat": 4,
 "nbformat_minor": 5
}
